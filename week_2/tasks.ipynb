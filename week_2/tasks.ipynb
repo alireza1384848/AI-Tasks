{
  "cells": [
    {
      "cell_type": "code",
      "execution_count": null,
      "metadata": {
        "id": "j9ptCt87nxvJ"
      },
      "outputs": [],
      "source": [
        "import cv2\n",
        "import numpy as np\n",
        "# from google.colab.patches import cv2_imshow"
      ]
    },
    {
      "cell_type": "markdown",
      "metadata": {
        "id": "1k6IXRbKohyw"
      },
      "source": [
        "# Sharpening using smooth filters\n",
        "\n",
        "\n",
        "\n",
        "\n",
        "> We've seen that smooth filters are used to blur and remove info from the image.\n",
        "<br>\n",
        "In this part your task is to do the opposite ! Use them to actually make the image sharper\n",
        "\n"
      ]
    },
    {
      "cell_type": "markdown",
      "metadata": {
        "id": "vYfLFVdjpGOX"
      },
      "source": [
        "- hint: $$\n",
        "g_{\\text{sharp}} = f + \\gamma \\left( f - h_{\\text{blur}} * f \\right)\n",
        "$$\n",
        "\n",
        "\n"
      ]
    },
    {
      "cell_type": "code",
      "execution_count": null,
      "metadata": {
        "colab": {
          "base_uri": "https://localhost:8080/",
          "height": 1000
        },
        "id": "GulHlHlBm4n6",
        "outputId": "e03411e4-5986-4ce9-f843-05507ceb87f2"
      },
      "outputs": [],
      "source": [
        "\n",
        "def sharpen_image(image, kernel_size=(5,5), gamma=1.5):\n",
        "  x,y,z = image.shape\n",
        "  bilateral_blur = cv2.resize(cv2.GaussianBlur(image,kernel_size,10), (y,x))\n",
        "  diff = cv2.subtract(image , bilateral_blur)\n",
        "  sharpened = cv2.addWeighted(image, 1.0, diff, gamma, 0)\n",
        "  abstract_img = cv2.convertScaleAbs(sharpened)\n",
        "  return (abstract_img,bilateral_blur)\n",
        "    \n",
        "\n",
        "image = cv2.imread('./Image/tiger.jpg')\n",
        "if image is not None:\n",
        "  sharpened_img, blur = sharpen_image(image)\n",
        "  cv2.imshow(\"window\",image)\n",
        "  cv2.imshow(\"window1\",sharpened_img)\n",
        "  cv2.imshow(\"window2\",blur)\n",
        "  cv2.waitKey(0)\n",
        "  cv2.destroyAllWindows()\n",
        "else:\n",
        "  print(\"Error: Could not load image.\")"
      ]
    },
    {
      "cell_type": "markdown",
      "metadata": {
        "id": "mGicwZDCoFRs"
      },
      "source": [
        "# Morphological Edge Detection\n",
        "\n",
        "- Extract clean object boundaries by subtracting eroded image from its dilated version\n"
      ]
    },
    {
      "cell_type": "code",
      "execution_count": null,
      "metadata": {
        "colab": {
          "base_uri": "https://localhost:8080/",
          "height": 1000
        },
        "id": "n7_C0eaNy8Lv",
        "outputId": "b3654a23-f69a-4ccf-a22a-cc2d1fcadfd3"
      },
      "outputs": [],
      "source": [
        "# Read the image\n",
        "img = cv2.imread(r\"./Image/bacteria.jpg\", cv2.IMREAD_GRAYSCALE)\n",
        "# For black and white image:\n",
        "_, binary = cv2.threshold(img, 0, 255, cv2.THRESH_BINARY + cv2.THRESH_OTSU)\n",
        "\n",
        "\n",
        "cv2kernel = cv2.getStructuringElement(cv2.MORPH_ELLIPSE , (2,2))\n",
        "\n",
        "\n",
        "dilate = cv2.dilate(binary , cv2kernel , iterations=1)\n",
        "\n",
        "Eroded = cv2.erode(binary,cv2kernel , iterations= 1)\n",
        "\n",
        "diff = cv2.subtract(dilate,Eroded)\n",
        "\n",
        "cv2.imshow(\"Cleaned Edges\", diff)\n",
        "\n",
        "cv2.waitKey(0)\n",
        "cv2.destroyAllWindows()"
      ]
    },
    {
      "cell_type": "markdown",
      "metadata": {
        "id": "PJ72lE-0UKRG"
      },
      "source": [
        "# Count bacteria"
      ]
    },
    {
      "cell_type": "markdown",
      "metadata": {
        "id": "xtoxr8QDUkZK"
      },
      "source": [
        "\n",
        "\n",
        "> Add blockquote\n",
        "\n"
      ]
    },
    {
      "cell_type": "markdown",
      "metadata": {
        "id": "RTvK26B4UR_o"
      },
      "source": [
        "bonus:\n",
        "- find a way to calculate the kernel size automatically (based on overlaps or cell sizes for example)\n",
        "- reconstruct cells by dilation after counting them"
      ]
    },
    {
      "cell_type": "code",
      "execution_count": null,
      "metadata": {
        "colab": {
          "base_uri": "https://localhost:8080/",
          "height": 1000
        },
        "id": "eWg0gg17SmEF",
        "outputId": "53da00fc-59a0-49e7-f894-d25593c18163"
      },
      "outputs": [],
      "source": [
        "img = cv2.imread(r\"./Image/bacteria.jpg\", cv2.IMREAD_GRAYSCALE)\n",
        "dx,dy= img.shape\n",
        "_, binary = cv2.threshold(img, 0, 255, cv2.THRESH_BINARY + cv2.THRESH_OTSU)\n",
        "\n",
        "binary = cv2.bitwise_not(binary)\n",
        "\n",
        "cv2kernel = cv2.getStructuringElement(cv2.MORPH_RECT , (35,35))\n",
        "\n",
        "Eroide = cv2.erode(binary , cv2kernel , iterations=1)\n",
        " \n",
        "contours, _ = cv2.findContours(Eroide, cv2.RETR_EXTERNAL, cv2.CHAIN_APPROX_SIMPLE)\n",
        "print(f\"number of Bacteria in Image : {len(contours)-1}\")\n",
        "\n",
        "Eroide = cv2.cvtColor(Eroide , cv2.COLOR_GRAY2BGR)\n",
        "for cnt in contours:\n",
        "    # Filter out too small areas (noise)\n",
        "    area = cv2.contourArea(cnt)\n",
        "\n",
        "    if area > 0:  # adjust threshold depending on your image\n",
        "        x, y, w, h = cv2.boundingRect(cnt)\n",
        "        cv2.rectangle(Eroide, (x, y), (x + w, y + h), (0, 255, 0), 2)\n",
        "        cv2.putText(Eroide , \"*\" ,(x + (w//2) , y + (h//2)) , cv2.FONT_HERSHEY_SIMPLEX , 0.5 , (0,0,255),1)    \n",
        "\n",
        "\n",
        "\n",
        "cv2.imshow(\"Counter\",Eroide)\n",
        "cv2.waitKey(0)\n",
        "cv2.destroyAllWindows()"
      ]
    },
    {
      "cell_type": "markdown",
      "metadata": {
        "id": "0wIGqqQwpFs_"
      },
      "source": [
        "# Optional"
      ]
    },
    {
      "cell_type": "markdown",
      "metadata": {
        "id": "qLBh-4OtpHze"
      },
      "source": [
        "\n",
        "\n",
        "> Learn as much as you want about CNNs and ask mentors (CNNs will be taught in future sessions)\n",
        "\n"
      ]
    },
    {
      "cell_type": "markdown",
      "metadata": {
        "id": "_9Vyth39pKCG"
      },
      "source": [
        "# Sources:\n",
        "- Computer Vision: Algorithms and Applications\n",
        "- Dr. Karimi videos\n",
        "- Google\n",
        "- My own knowledge"
      ]
    }
  ],
  "metadata": {
    "colab": {
      "provenance": []
    },
    "kernelspec": {
      "display_name": "Python 3",
      "name": "python3"
    },
    "language_info": {
      "codemirror_mode": {
        "name": "ipython",
        "version": 3
      },
      "file_extension": ".py",
      "mimetype": "text/x-python",
      "name": "python",
      "nbconvert_exporter": "python",
      "pygments_lexer": "ipython3",
      "version": "3.12.4"
    }
  },
  "nbformat": 4,
  "nbformat_minor": 0
}
